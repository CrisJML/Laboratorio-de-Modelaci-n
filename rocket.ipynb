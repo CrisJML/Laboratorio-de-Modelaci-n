{
  "cells": [
    {
      "cell_type": "markdown",
      "metadata": {
        "id": "view-in-github",
        "colab_type": "text"
      },
      "source": [
        "<a href=\"https://colab.research.google.com/github/CrisJML/Laboratorio-de-Modelaci-n/blob/main/rocket.ipynb\" target=\"_parent\"><img src=\"https://colab.research.google.com/assets/colab-badge.svg\" alt=\"Open In Colab\"/></a>"
      ]
    },
    {
      "cell_type": "code",
      "execution_count": 2,
      "metadata": {
        "id": "BRqcmc9x3lnn"
      },
      "outputs": [],
      "source": [
        "import numpy as np\n",
        "import matplotlib.pyplot as plt"
      ]
    },
    {
      "cell_type": "code",
      "execution_count": 3,
      "metadata": {
        "id": "Th-IgdDD3lnu"
      },
      "outputs": [],
      "source": [
        "def mpp1(t):\n",
        "    # thrust density 1 during 1 unit of time\n",
        "    #densidad de combustible quemado\n",
        "    if (t<1):\n",
        "        return 1.;\n",
        "    else:\n",
        "        return 0.;"
      ]
    },
    {
      "cell_type": "code",
      "execution_count": 4,
      "metadata": {
        "id": "ONBL5hS03lnw"
      },
      "outputs": [],
      "source": [
        "def mpp2(t):\n",
        "    # thrust density 2 during 1/2 unit of time\n",
        "    if (t<0.5):\n",
        "        return 2.;\n",
        "    else:\n",
        "        return 0.;"
      ]
    },
    {
      "cell_type": "code",
      "execution_count": 5,
      "metadata": {
        "id": "BDgFBZSG3lnx"
      },
      "outputs": [],
      "source": [
        "m0 = 10.;\n",
        "t = np.linspace(0,4,40); # discrete times, uniformly\n",
        "\n",
        "dt = t[1]-t[0];\n",
        "\n",
        "# rocket using thrust mpp1\n",
        "mp1_ = np.zeros(np.size(t)) # burned fuel\n",
        "dv1_ = np.zeros(np.size(t)) # delta-v\n",
        "x1_ = np.zeros(np.size(t))  # position = the integral of delta-v\n",
        "for j in range(2,np.size(t)):\n",
        "    mp1_[j] = mp1_[j-1]+mpp1(t[j-1])*dt\n",
        "    dv1_[j] =  np.log(m0/(m0-mp1_[j]))\n",
        "    x1_[j] = x1_[j-1]+dv1_[j]*dt\n",
        "    \n",
        "# rocket using thrust mpp2\n",
        "mp2_ = np.zeros(np.size(t))\n",
        "dv2_ = np.zeros(np.size(t))\n",
        "x2_ = np.zeros(np.size(t))\n",
        "for j in range(2,np.size(t)):\n",
        "    mp2_[j] = mp2_[j-1]+mpp2(t[j-1])*dt\n",
        "    dv2_[j] = np.log(m0/(m0-mp2_[j]))\n",
        "    x2_[j] = x2_[j-1]+dv2_[j]*dt"
      ]
    },
    {
      "cell_type": "code",
      "execution_count": 6,
      "metadata": {
        "colab": {
          "base_uri": "https://localhost:8080/",
          "height": 304
        },
        "id": "fcYxDWzV3lnz",
        "outputId": "856de1e7-cdce-4ece-8e04-a67480a8ab31"
      },
      "outputs": [
        {
          "output_type": "execute_result",
          "data": {
            "text/plain": [
              "[<matplotlib.lines.Line2D at 0x7f8a0ad1aad0>,\n",
              " <matplotlib.lines.Line2D at 0x7f8a05d1b850>]"
            ]
          },
          "metadata": {},
          "execution_count": 6
        },
        {
          "output_type": "display_data",
          "data": {
            "text/plain": [
              "<Figure size 432x288 with 1 Axes>"
            ],
            "image/png": "[encoded data removed]"
          },
          "metadata": {
            "needs_background": "light"
          }
        }
      ],
      "source": [
        "plt.plot(t,x1_,t,x2_)"
      ]
    },
    {
      "cell_type": "code",
      "source": [
        "m0 = 10.;\n",
        "a = -0.05\n",
        "t = np.linspace(0,4,40); # discrete times, uniformly\n",
        "\n",
        "dt = t[1]-t[0];\n",
        "\n",
        "# rocket using thrust mpp1\n",
        "mp1_ = np.zeros(np.size(t)) # burned fuel\n",
        "dv1_ = np.zeros(np.size(t)) # delta-v\n",
        "x1_ = np.zeros(np.size(t))  # position = the integral of delta-v\n",
        "for j in range(2,np.size(t)):\n",
        "    mp1_[j] = mp1_[j-1]+mpp1(t[j-1])*dt\n",
        "    dv1_[j] =  np.log(m0/(m0-mp1_[j])) + a*t[j]\n",
        "    x1_[j] = x1_[j-1]+dv1_[j]*dt\n",
        "    \n",
        "# rocket using thrust mpp2\n",
        "mp2_ = np.zeros(np.size(t))\n",
        "dv2_ = np.zeros(np.size(t))\n",
        "x2_ = np.zeros(np.size(t))\n",
        "for j in range(2,np.size(t)):\n",
        "    mp2_[j] = mp2_[j-1]+mpp2(t[j-1])*dt\n",
        "    dv2_[j] = np.log(m0/(m0-mp2_[j])) + a*t[j]\n",
        "    x2_[j] = x2_[j-1]+dv2_[j]*dt"
      ],
      "metadata": {
        "id": "VOdD-jvaxO3c"
      },
      "execution_count": 7,
      "outputs": []
    },
    {
      "cell_type": "code",
      "source": [
        "plt.plot(t,x1_,t,x2_) "
      ],
      "metadata": {
        "colab": {
          "base_uri": "https://localhost:8080/",
          "height": 302
        },
        "id": "prtvQXUMxQLd",
        "outputId": "ad3ec1ba-1187-4399-c509-56feacb47b9a"
      },
      "execution_count": 8,
      "outputs": [
        {
          "output_type": "execute_result",
          "data": {
            "text/plain": [
              "[<matplotlib.lines.Line2D at 0x7f8a0580d850>,\n",
              " <matplotlib.lines.Line2D at 0x7f8a0580da90>]"
            ]
          },
          "metadata": {},
          "execution_count": 8
        },
        {
          "output_type": "display_data",
          "data": {
            "text/plain": [
              "<Figure size 432x288 with 1 Axes>"
            ],
            "image/png": "[encoded data removed]"
          },
          "metadata": {
            "needs_background": "light"
          }
        }
      ]
    },
    {
      "cell_type": "code",
      "source": [],
      "metadata": {
        "id": "HciYRKdbyyMF"
      },
      "execution_count": null,
      "outputs": []
    }
  ],
  "metadata": {
    "kernelspec": {
      "display_name": "Python 3",
      "language": "python",
      "name": "python3"
    },
    "language_info": {
      "codemirror_mode": {
        "name": "ipython",
        "version": 3
      },
      "file_extension": ".py",
      "mimetype": "text/x-python",
      "name": "python",
      "nbconvert_exporter": "python",
      "pygments_lexer": "ipython3",
      "version": "3.9.6"
    },
    "colab": {
      "provenance": [],
      "include_colab_link": true
    }
  },
  "nbformat": 4,
  "nbformat_minor": 0
}